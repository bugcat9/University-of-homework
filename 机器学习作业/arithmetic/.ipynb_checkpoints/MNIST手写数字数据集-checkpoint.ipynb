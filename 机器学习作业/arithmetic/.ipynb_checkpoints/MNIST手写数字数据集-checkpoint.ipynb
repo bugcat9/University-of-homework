{
 "cells": [
  {
   "cell_type": "markdown",
   "metadata": {},
   "source": [
    "# 分类MNIST手写数字数据集\n",
    "\n",
    "<div class=\"alert alert-block alert-info\">\n",
    "Shift + Enter 运行单元格中的代码<br>\n",
    "双击单元格进入编辑模式，即可修改代码。<br>\n",
    "</div>\n",
    "\n",
    "\n",
    "![jupyter](http://jupyter.org/assets/main-logo.svg)"
   ]
  },
  {
   "cell_type": "markdown",
   "metadata": {},
   "source": [
    "本案例，将使用Pytorch搭建多层感知机神经网络（MLP），对著名的手写数字数据集MNIST的七万张图片进行分类，包含完整的多层感知机模型定义、损失函数、优化器超参数设置、梯度下降与反向传播训练神经网络、可视化训练过程的误差下降，用测试集的一万张图片进行模型评估，并**分析被分类错误的图片具有哪些特征，神经网络为什么会将这些图片分类错误？哪些图片最容易被错分类？最容易被错分到哪一类？**\n"
   ]
  },
  {
   "cell_type": "markdown",
   "metadata": {},
   "source": [
    "# 1.导入工具库"
   ]
  },
  {
   "cell_type": "code",
   "execution_count": 70,
   "metadata": {
    "pycharm": {
     "is_executing": false
    }
   },
   "outputs": [],
   "source": [
    "import torch\n",
    "import torch.nn as nn\n",
    "import torchvision\n",
    "import torchvision.transforms as transforms\n",
    "import numpy as np\n",
    "import matplotlib.pyplot as plt\n",
    "%matplotlib inline\n",
    "\n",
    "plt.rcParams['font.sans-serif']=['SimHei']  # 用来正常显示中文标签  \n",
    "plt.rcParams['axes.unicode_minus']=False  # 用来正常显示负号"
   ]
  },
  {
   "cell_type": "markdown",
   "metadata": {},
   "source": [
    "# 2.设定超参数"
   ]
  },
  {
   "cell_type": "code",
   "execution_count": 71,
   "metadata": {
    "pycharm": {
     "is_executing": false
    }
   },
   "outputs": [],
   "source": [
    "# 查看你的电脑是否支持gpu加速,就算返回False也没关系\n",
    "use_cuda = torch.cuda.is_available()    #gpu是否可用\n",
    "device = torch.device('cuda' if torch.cuda.is_available() else 'cpu')"
   ]
  },
  {
   "cell_type": "code",
   "execution_count": 72,
   "metadata": {
    "pycharm": {
     "is_executing": false
    }
   },
   "outputs": [],
   "source": [
    "input_size = 784 # 输入数据的维度，28*28=784\n",
    "hidden_size = 128 # 隐含层神经元个数\n",
    "num_classes = 10 # 输出层神经元个数，每个神经元对应一类的概率\n",
    "num_epochs = 5 # 迭代轮次，完整处理完训练集中所有的数据是一轮\n",
    "batch_size = 100 # 每一批数据大小\n",
    "learning_rate = 0.001 # 学习率"
   ]
  },
  {
   "cell_type": "markdown",
   "metadata": {},
   "source": [
    "我们将构建包含一个隐含层的多层感知机(全连接多层神经网络)，输入为784维的数据，隐含层128个神经元，输出层10个神经元，分别输出图片在0-9十个分类上的概率。"
   ]
  },
  {
   "cell_type": "markdown",
   "metadata": {},
   "source": [
    "下图展示了两个隐含层多层感知机神经网络的基本架构，我们构建的神经网络只包含一个隐含层，与动图中稍有不同\n"
   ]
  },
  {
   "cell_type": "markdown",
   "metadata": {},
   "source": [
    "# 3.导入数据集"
   ]
  },
  {
   "cell_type": "code",
   "execution_count": 73,
   "metadata": {
    "pycharm": {
     "is_executing": false
    }
   },
   "outputs": [],
   "source": [
    "# 载入MNIST手写数字数据集\n",
    "# 载入训练集\n",
    "train_dataset = torchvision.datasets.MNIST(root='../data/', \n",
    "                                           train=True, \n",
    "                                           transform=transforms.ToTensor(),\n",
    "                                           download=False)\n",
    "# 载入测试集\n",
    "test_dataset = torchvision.datasets.MNIST(root='../data/',\n",
    "                                          train=False, \n",
    "                                          transform=transforms.ToTensor(),\n",
    "                                          )\n",
    "\n",
    "# Data loader构建输入数据加载器，这个加载器是一个python生成器，可以认为是一个流水线，每次都返回一批新数据\n",
    "# 训练集数据载入流水线\n",
    "train_loader = torch.utils.data.DataLoader(dataset=train_dataset, \n",
    "                                           batch_size=batch_size, \n",
    "                                           shuffle=True)\n",
    "# 测试集数据载入流水线\n",
    "test_loader = torch.utils.data.DataLoader(dataset=test_dataset, \n",
    "                                          batch_size=batch_size, \n",
    "                                          shuffle=False)"
   ]
  },
  {
   "cell_type": "markdown",
   "metadata": {},
   "source": [
    "## 可视化数据"
   ]
  },
  {
   "cell_type": "code",
   "execution_count": 74,
   "metadata": {
    "pycharm": {
     "is_executing": false
    }
   },
   "outputs": [
    {
     "data": {
      "image/png": "[encoded data removed]",
      "text/plain": [
       "<Figure size 1800x288 with 20 Axes>"
      ]
     },
     "metadata": {},
     "output_type": "display_data"
    }
   ],
   "source": [
    "# 可重复运行，展示不同的图片\n",
    "\n",
    "# 构造迭代器，获得训练集中的一批次数据\n",
    "dataiter = iter(train_loader)\n",
    "images, labels = dataiter.next()\n",
    "# 将数据集中的Tensor张量转为numpy的array数据类型\n",
    "images = images.numpy()\n",
    "\n",
    "# 可视化图片和标签\n",
    "fig = plt.figure(figsize=(25, 4))\n",
    "for idx in np.arange(20):\n",
    "    ax = fig.add_subplot(2, 20/2, idx+1, xticks=[], yticks=[])\n",
    "    ax.imshow(np.squeeze(images[idx]), cmap='gray')\n",
    "    # .item()获取张量的数值\n",
    "    ax.set_title(str(labels[idx].item()))"
   ]
  },
  {
   "cell_type": "code",
   "execution_count": 75,
   "metadata": {
    "pycharm": {
     "is_executing": false
    }
   },
   "outputs": [
    {
     "data": {
      "text/plain": [
       "Text(0.5, 1.0, 'label:tensor(9)')"
      ]
     },
     "execution_count": 75,
     "metadata": {},
     "output_type": "execute_result"
    },
    {
     "data": {
      "image/png": "[encoded data removed]",
      "text/plain": [
       "<Figure size 432x288 with 1 Axes>"
      ]
     },
     "metadata": {
      "needs_background": "light"
     },
     "output_type": "display_data"
    }
   ],
   "source": [
    "plt.imshow(images[1][0])\n",
    "plt.title('label:'+str(labels[1]))"
   ]
  },
  {
   "cell_type": "markdown",
   "metadata": {},
   "source": [
    "## 展示图像的像素细节"
   ]
  },
  {
   "cell_type": "code",
   "execution_count": 76,
   "metadata": {
    "pycharm": {
     "is_executing": false
    }
   },
   "outputs": [
    {
     "data": {
      "text/plain": [
       "(1, 28, 28)"
      ]
     },
     "execution_count": 76,
     "metadata": {},
     "output_type": "execute_result"
    }
   ],
   "source": [
    "images[1].shape"
   ]
  },
  {
   "cell_type": "code",
   "execution_count": 77,
   "metadata": {
    "pycharm": {
     "is_executing": false
    }
   },
   "outputs": [
    {
     "data": {
      "text/plain": [
       "(28, 28)"
      ]
     },
     "execution_count": 77,
     "metadata": {},
     "output_type": "execute_result"
    }
   ],
   "source": [
    "np.squeeze(images[1]).shape"
   ]
  },
  {
   "cell_type": "code",
   "execution_count": 78,
   "metadata": {
    "pycharm": {
     "is_executing": false
    }
   },
   "outputs": [
    {
     "data": {
      "image/png": "[encoded data removed]",
      "text/plain": [
       "<Figure size 864x864 with 1 Axes>"
      ]
     },
     "metadata": {
      "needs_background": "light"
     },
     "output_type": "display_data"
    }
   ],
   "source": [
    "# 去掉图像的批次维度，只保留索引为1的单张图像的长宽像素值\n",
    "img = np.squeeze(images[1])\n",
    "\n",
    "fig = plt.figure(figsize = (12,12)) \n",
    "ax = fig.add_subplot(111)\n",
    "ax.imshow(img, cmap='gray')\n",
    "width, height = img.shape\n",
    "thresh = img.max()/2.5\n",
    "\n",
    "# 遍历每一行每一列每一个像素\n",
    "for x in range(width):\n",
    "    for y in range(height):\n",
    "        # 像素值保留两位小数，如果为0则显示0\n",
    "        val = round(img[x][y],2) if img[x][y] !=0 else 0\n",
    "        ax.annotate(str(val), xy=(y,x),\n",
    "                    horizontalalignment='center',\n",
    "                    verticalalignment='center',\n",
    "                    color='white' if img[x][y]<thresh else 'black')"
   ]
  },
  {
   "cell_type": "markdown",
   "metadata": {},
   "source": [
    "# 4.构建模型、定义损失与优化器"
   ]
  },
  {
   "cell_type": "code",
   "execution_count": 79,
   "metadata": {
    "pycharm": {
     "is_executing": false
    }
   },
   "outputs": [],
   "source": [
    "# 添加隐层，构建多层感知器\n",
    "class NeuralNet(nn.Module):\n",
    "    def __init__(self,input_size, hidden_size, num_classes):\n",
    "        super(NeuralNet, self).__init__()\n",
    "        self.fc1 = nn.Linear(input_size, hidden_size)  # 定义输入层到隐含层\n",
    "        self.relu = nn.ReLU() # 定义隐含层的激活函数为Relu激活函数\n",
    "        self.fc2 = nn.Linear(hidden_size, num_classes)  # 定义隐含层到输出层\n",
    "    \n",
    "    def forward(self, x):\n",
    "        out = self.fc1(x) # 数据从输入经过隐含层\n",
    "        out = self.relu(out) # 隐含层Relu激活函数激活\n",
    "        out = self.fc2(out) # 数据从隐含层到输出层\n",
    "        return out\n",
    "\n",
    "model = NeuralNet(input_size, hidden_size, num_classes)\n",
    "if use_cuda:\n",
    "    model.cuda()\n",
    "\n",
    "# 多分类问题使用交叉熵损失，使用Adam优化器\n",
    "criterion = nn.CrossEntropyLoss()\n",
    "optimizer = torch.optim.Adam(model.parameters(), lr=learning_rate) "
   ]
  },
  {
   "cell_type": "markdown",
   "metadata": {},
   "source": [
    "# 5.模型训练"
   ]
  },
  {
   "cell_type": "code",
   "execution_count": 80,
   "metadata": {
    "pycharm": {
     "is_executing": false
    }
   },
   "outputs": [
    {
     "data": {
      "text/plain": [
       "600"
      ]
     },
     "execution_count": 80,
     "metadata": {},
     "output_type": "execute_result"
    }
   ],
   "source": [
    "len(train_loader)"
   ]
  },
  {
   "cell_type": "code",
   "execution_count": 81,
   "metadata": {
    "pycharm": {
     "is_executing": false
    }
   },
   "outputs": [
    {
     "name": "stdout",
     "output_type": "stream",
     "text": [
      "目前总轮次进程 [1/5], 当前批次进程 [100/600], 当前损失: 0.3821\n",
      "目前总轮次进程 [1/5], 当前批次进程 [200/600], 当前损失: 0.4245\n",
      "目前总轮次进程 [1/5], 当前批次进程 [300/600], 当前损失: 0.3882\n",
      "目前总轮次进程 [1/5], 当前批次进程 [400/600], 当前损失: 0.2757\n",
      "目前总轮次进程 [1/5], 当前批次进程 [500/600], 当前损失: 0.1884\n",
      "目前总轮次进程 [1/5], 当前批次进程 [600/600], 当前损失: 0.2636\n",
      "目前总轮次进程 [2/5], 当前批次进程 [100/600], 当前损失: 0.1946\n",
      "目前总轮次进程 [2/5], 当前批次进程 [200/600], 当前损失: 0.1570\n",
      "目前总轮次进程 [2/5], 当前批次进程 [300/600], 当前损失: 0.1290\n",
      "目前总轮次进程 [2/5], 当前批次进程 [400/600], 当前损失: 0.1507\n",
      "目前总轮次进程 [2/5], 当前批次进程 [500/600], 当前损失: 0.2101\n",
      "目前总轮次进程 [2/5], 当前批次进程 [600/600], 当前损失: 0.2077\n",
      "目前总轮次进程 [3/5], 当前批次进程 [100/600], 当前损失: 0.1953\n",
      "目前总轮次进程 [3/5], 当前批次进程 [200/600], 当前损失: 0.1820\n",
      "目前总轮次进程 [3/5], 当前批次进程 [300/600], 当前损失: 0.0966\n",
      "目前总轮次进程 [3/5], 当前批次进程 [400/600], 当前损失: 0.0684\n",
      "目前总轮次进程 [3/5], 当前批次进程 [500/600], 当前损失: 0.1437\n",
      "目前总轮次进程 [3/5], 当前批次进程 [600/600], 当前损失: 0.1157\n",
      "目前总轮次进程 [4/5], 当前批次进程 [100/600], 当前损失: 0.1444\n",
      "目前总轮次进程 [4/5], 当前批次进程 [200/600], 当前损失: 0.0730\n",
      "目前总轮次进程 [4/5], 当前批次进程 [300/600], 当前损失: 0.0558\n",
      "目前总轮次进程 [4/5], 当前批次进程 [400/600], 当前损失: 0.1048\n",
      "目前总轮次进程 [4/5], 当前批次进程 [500/600], 当前损失: 0.1428\n",
      "目前总轮次进程 [4/5], 当前批次进程 [600/600], 当前损失: 0.1340\n",
      "目前总轮次进程 [5/5], 当前批次进程 [100/600], 当前损失: 0.0356\n",
      "目前总轮次进程 [5/5], 当前批次进程 [200/600], 当前损失: 0.0575\n",
      "目前总轮次进程 [5/5], 当前批次进程 [300/600], 当前损失: 0.0601\n",
      "目前总轮次进程 [5/5], 当前批次进程 [400/600], 当前损失: 0.0657\n",
      "目前总轮次进程 [5/5], 当前批次进程 [500/600], 当前损失: 0.0770\n",
      "目前总轮次进程 [5/5], 当前批次进程 [600/600], 当前损失: 0.0894\n"
     ]
    }
   ],
   "source": [
    "# 训练模型 每打印一次调试信息表示过了一万张图片 （每步批次100张图片，每100步打印一次调试信息）\n",
    "# 每一轮 = 六万张图片 = 600步 = 打印六次调试信息\n",
    "total_step = len(train_loader)\n",
    "for epoch in range(num_epochs):\n",
    "    for i, (images, labels) in enumerate(train_loader):  \n",
    "        # 转到gpu设备上\n",
    "        images = images.reshape(-1, 28*28).to(device)\n",
    "        labels = labels.to(device)\n",
    "        if use_cuda:\n",
    "            images.cuda()\n",
    "            labels.cuda()\n",
    "        # 前向运算\n",
    "        outputs = model(images)\n",
    "        loss = criterion(outputs, labels)\n",
    "        \n",
    "        # 反向传播\n",
    "        optimizer.zero_grad()\n",
    "        loss.backward()\n",
    "        optimizer.step()\n",
    "        \n",
    "        if (i+1) % 100 == 0:\n",
    "            print ('目前总轮次进程 [{}/{}], 当前批次进程 [{}/{}], 当前损失: {:.4f}' \n",
    "                   .format(epoch+1, num_epochs, i+1, total_step, loss.item()))"
   ]
  },
  {
   "cell_type": "markdown",
   "metadata": {},
   "source": [
    "# 6.预估与测试集评估"
   ]
  },
  {
   "cell_type": "code",
   "execution_count": 82,
   "metadata": {
    "pycharm": {
     "is_executing": false
    },
    "scrolled": false
   },
   "outputs": [
    {
     "name": "stdout",
     "output_type": "stream",
     "text": [
      "10000张测试图片上的准确率为 97 %\n"
     ]
    }
   ],
   "source": [
    "with torch.no_grad():\n",
    "    correct = 0\n",
    "    total = 0\n",
    "    for images, labels in test_loader:\n",
    "        images = images.reshape(-1, 28*28).to(device)\n",
    "        labels = labels.to(device)\n",
    "        outputs = model(images)\n",
    "        _, predicted = torch.max(outputs.data, 1)\n",
    "        total += labels.size(0)\n",
    "        correct += (predicted == labels).sum()\n",
    "\n",
    "    print('10000张测试图片上的准确率为 {} %'.format(100 * correct / total))\n",
    "\n",
    "# 模型存储\n",
    "torch.save(model.state_dict(), './mlp.ckpt')"
   ]
  },
  {
   "cell_type": "markdown",
   "metadata": {},
   "source": [
    "# 7.增加可视化内容，重新训练和评估，分析分类错误的图片"
   ]
  },
  {
   "cell_type": "code",
   "execution_count": 83,
   "metadata": {
    "pycharm": {
     "is_executing": false
    }
   },
   "outputs": [
    {
     "name": "stdout",
     "output_type": "stream",
     "text": [
      "开始在训练集上训练\n",
      "目前总轮次进程 [1/5], 当前批次进程 [100/600], 当前损失: 0.3803\n",
      "目前总轮次进程 [1/5], 当前批次进程 [200/600], 当前损失: 0.2753\n",
      "目前总轮次进程 [1/5], 当前批次进程 [300/600], 当前损失: 0.2181\n",
      "目前总轮次进程 [1/5], 当前批次进程 [400/600], 当前损失: 0.2451\n",
      "目前总轮次进程 [1/5], 当前批次进程 [500/600], 当前损失: 0.3100\n",
      "目前总轮次进程 [1/5], 当前批次进程 [600/600], 当前损失: 0.2331\n",
      "目前总轮次进程 [2/5], 当前批次进程 [100/600], 当前损失: 0.1958\n",
      "目前总轮次进程 [2/5], 当前批次进程 [200/600], 当前损失: 0.2155\n",
      "目前总轮次进程 [2/5], 当前批次进程 [300/600], 当前损失: 0.1877\n",
      "目前总轮次进程 [2/5], 当前批次进程 [400/600], 当前损失: 0.2273\n",
      "目前总轮次进程 [2/5], 当前批次进程 [500/600], 当前损失: 0.0782\n",
      "目前总轮次进程 [2/5], 当前批次进程 [600/600], 当前损失: 0.0611\n",
      "目前总轮次进程 [3/5], 当前批次进程 [100/600], 当前损失: 0.1807\n",
      "目前总轮次进程 [3/5], 当前批次进程 [200/600], 当前损失: 0.1404\n",
      "目前总轮次进程 [3/5], 当前批次进程 [300/600], 当前损失: 0.1400\n",
      "目前总轮次进程 [3/5], 当前批次进程 [400/600], 当前损失: 0.1398\n",
      "目前总轮次进程 [3/5], 当前批次进程 [500/600], 当前损失: 0.0589\n",
      "目前总轮次进程 [3/5], 当前批次进程 [600/600], 当前损失: 0.2133\n",
      "目前总轮次进程 [4/5], 当前批次进程 [100/600], 当前损失: 0.0780\n",
      "目前总轮次进程 [4/5], 当前批次进程 [200/600], 当前损失: 0.0812\n",
      "目前总轮次进程 [4/5], 当前批次进程 [300/600], 当前损失: 0.1088\n",
      "目前总轮次进程 [4/5], 当前批次进程 [400/600], 当前损失: 0.0610\n",
      "目前总轮次进程 [4/5], 当前批次进程 [500/600], 当前损失: 0.1639\n",
      "目前总轮次进程 [4/5], 当前批次进程 [600/600], 当前损失: 0.1684\n",
      "目前总轮次进程 [5/5], 当前批次进程 [100/600], 当前损失: 0.1088\n",
      "目前总轮次进程 [5/5], 当前批次进程 [200/600], 当前损失: 0.0390\n",
      "目前总轮次进程 [5/5], 当前批次进程 [300/600], 当前损失: 0.1009\n",
      "目前总轮次进程 [5/5], 当前批次进程 [400/600], 当前损失: 0.0733\n",
      "目前总轮次进程 [5/5], 当前批次进程 [500/600], 当前损失: 0.0917\n",
      "目前总轮次进程 [5/5], 当前批次进程 [600/600], 当前损失: 0.1067\n"
     ]
    }
   ],
   "source": [
    "# 重新训练 绘制错误率曲线 画出分类错误的图片\n",
    "# 训练模型 \n",
    "\n",
    "model = NeuralNet(input_size, hidden_size, num_classes).to(device)\n",
    "criterion = nn.CrossEntropyLoss()\n",
    "optimizer = torch.optim.Adam(model.parameters(), lr=learning_rate) \n",
    "\n",
    "loss_list = [] # 每1步存储一次损失值\n",
    "loss_list2 = [] # 每100步存储一次损失值\n",
    "total_step = len(train_loader)\n",
    "print('开始在训练集上训练')\n",
    "for epoch in range(num_epochs):\n",
    "    for i, (images, labels) in enumerate(train_loader):  \n",
    "        # 转到gpu设备上\n",
    "        images = images.reshape(-1, 28*28).to(device)\n",
    "        labels = labels.to(device)\n",
    "        \n",
    "        # 前向运算\n",
    "        outputs = model(images)\n",
    "        loss = criterion(outputs, labels)\n",
    "        loss_list.append(loss.item())\n",
    "        \n",
    "        # 反向传播\n",
    "        optimizer.zero_grad()\n",
    "        loss.backward()\n",
    "        optimizer.step()\n",
    "        \n",
    "        # 每100步输出一次，每输出一次表示过了一万张图片 （每步，也就是每批次包含100张图片，每100步输出一次调试信息）\n",
    "        if (i+1) % 100 == 0:\n",
    "            loss_list2.append(loss.item())\n",
    "            print ('目前总轮次进程 [{}/{}], 当前批次进程 [{}/{}], 当前损失: {:.4f}' \n",
    "                   .format(epoch+1, num_epochs, i+1, total_step, loss.item()))"
   ]
  },
  {
   "cell_type": "code",
   "execution_count": 84,
   "metadata": {
    "pycharm": {
     "is_executing": false
    }
   },
   "outputs": [
    {
     "data": {
      "image/png": "[encoded data removed]",
      "text/plain": [
       "<Figure size 720x576 with 1 Axes>"
      ]
     },
     "metadata": {
      "needs_background": "light"
     },
     "output_type": "display_data"
    }
   ],
   "source": [
    "# 绘制训练过程中每一步的损失函数值\n",
    "# 每一步，也就是每一批次，训练时用了100张图片\n",
    "# 每一个epoch（训练集六万张图片）需要600步，5个epoch需要3000步，所以横坐标到3000\n",
    "plt.figure(figsize=(10, 8))\n",
    "plt.plot(loss_list,'g-')\n",
    "plt.xlabel('训练步')\n",
    "plt.ylabel('损失函数')\n",
    "plt.title('训练过程中每一步损失函数变化')\n",
    "plt.show()"
   ]
  },
  {
   "cell_type": "code",
   "execution_count": 85,
   "metadata": {
    "pycharm": {
     "is_executing": false
    }
   },
   "outputs": [
    {
     "data": {
      "image/png": "[encoded data removed]",
      "text/plain": [
       "<Figure size 720x576 with 1 Axes>"
      ]
     },
     "metadata": {
      "needs_background": "light"
     },
     "output_type": "display_data"
    }
   ],
   "source": [
    "# 每100步的训练函数下降曲线\n",
    "import matplotlib.pyplot as plt\n",
    "%matplotlib inline\n",
    "plt.figure(figsize=(10, 8))\n",
    "plt.plot(loss_list2,'r-')\n",
    "plt.ylim((0,2))\n",
    "plt.xlabel('训练步（每100步）')\n",
    "plt.ylabel('损失函数')\n",
    "plt.title('训练过程中每100步损失函数变化')\n",
    "plt.show()"
   ]
  },
  {
   "cell_type": "code",
   "execution_count": 86,
   "metadata": {
    "pycharm": {
     "is_executing": false
    },
    "scrolled": false
   },
   "outputs": [
    {
     "ename": "TypeError",
     "evalue": "can't convert CUDA tensor to numpy. Use Tensor.cpu() to copy the tensor to host memory first.",
     "output_type": "error",
     "traceback": [
      "\u001b[1;31m---------------------------------------------------------------------------\u001b[0m",
      "\u001b[1;31mTypeError\u001b[0m                                 Traceback (most recent call last)",
      "\u001b[1;32m<ipython-input-86-01450e328450>\u001b[0m in \u001b[0;36m<module>\u001b[1;34m\u001b[0m\n\u001b[0;32m     16\u001b[0m \u001b[1;33m\u001b[0m\u001b[0m\n\u001b[0;32m     17\u001b[0m         \u001b[1;31m# 找出分类错误的图片，以及对应的真实标签和预测结果，分别放在三个列表里\u001b[0m\u001b[1;33m\u001b[0m\u001b[1;33m\u001b[0m\u001b[1;33m\u001b[0m\u001b[0m\n\u001b[1;32m---> 18\u001b[1;33m         \u001b[0mpred_result\u001b[0m \u001b[1;33m=\u001b[0m \u001b[0mnp\u001b[0m\u001b[1;33m.\u001b[0m\u001b[0margmax\u001b[0m\u001b[1;33m(\u001b[0m\u001b[0moutputs\u001b[0m\u001b[1;33m.\u001b[0m\u001b[0mnumpy\u001b[0m\u001b[1;33m(\u001b[0m\u001b[1;33m)\u001b[0m\u001b[1;33m,\u001b[0m\u001b[0maxis\u001b[0m\u001b[1;33m=\u001b[0m\u001b[1;36m1\u001b[0m\u001b[1;33m)\u001b[0m \u001b[1;31m# 找到模型推断的每张图片所属的类别\u001b[0m\u001b[1;33m\u001b[0m\u001b[1;33m\u001b[0m\u001b[0m\n\u001b[0m\u001b[0;32m     19\u001b[0m         \u001b[0mlabels\u001b[0m \u001b[1;33m=\u001b[0m \u001b[0mlabels\u001b[0m\u001b[1;33m.\u001b[0m\u001b[0mnumpy\u001b[0m\u001b[1;33m(\u001b[0m\u001b[1;33m)\u001b[0m \u001b[1;31m# 将标签转为numpy的array数组\u001b[0m\u001b[1;33m\u001b[0m\u001b[1;33m\u001b[0m\u001b[0m\n\u001b[0;32m     20\u001b[0m         \u001b[0mfinal\u001b[0m \u001b[1;33m=\u001b[0m \u001b[1;33m(\u001b[0m\u001b[0mpred_result\u001b[0m \u001b[1;33m==\u001b[0m \u001b[0mlabels\u001b[0m\u001b[1;33m)\u001b[0m \u001b[1;31m# 被分类正确的为True，被分类错误的为False\u001b[0m\u001b[1;33m\u001b[0m\u001b[1;33m\u001b[0m\u001b[0m\n",
      "\u001b[1;31mTypeError\u001b[0m: can't convert CUDA tensor to numpy. Use Tensor.cpu() to copy the tensor to host memory first."
     ]
    }
   ],
   "source": [
    "# 在测试集的一万张图片上做测试，并存储分类错误的图片、它们对应的真实标签和预测结果\n",
    "with torch.no_grad():\n",
    "    correct = 0\n",
    "    total = 0\n",
    "    # 构建三个空列表，用于存放被分类错误的图片，以及对应的真实标签和预测结果\n",
    "    wrong_image = [] # 用于存放被分类错误的图片\n",
    "    wrong_image_label = [] # 用于存放被分类错误的图片的真实标签\n",
    "    wrong_image_pred = []  # 用于存放被分类错误的图片的错误预测结果\n",
    "    for images, labels in test_loader:\n",
    "        images = images.reshape(-1, 28*28).to(device)\n",
    "        labels = labels.to(device)\n",
    "        outputs = model(images)\n",
    "        _, predicted = torch.max(outputs.data, 1)\n",
    "        total += labels.size(0)\n",
    "        correct += (predicted == labels).sum()\n",
    "        \n",
    "        # 找出分类错误的图片，以及对应的真实标签和预测结果，分别放在三个列表里\n",
    "        pred_result = np.argmax(outputs.numpy(),axis=1) # 找到模型推断的每张图片所属的类别\n",
    "        labels = labels.numpy() # 将标签转为numpy的array数组\n",
    "        final = (pred_result == labels) # 被分类正确的为True，被分类错误的为False\n",
    "        wrong_index = np.where(final==False)[0] # 获取被分类错误的图片索引号\n",
    "        \n",
    "        for i in range(images[wrong_index].shape[0]):\n",
    "            wrong_image.append(images[wrong_index][i]) # 存储被分类错误的图片\n",
    "            wrong_image_label.append(labels[wrong_index][i]) # 存储被分类错误的图片对应的真实标签\n",
    "            wrong_image_pred.append(pred_result[wrong_index][i]) # 存储被分类错误的图片的错误预测结果\n",
    "\n",
    "    print('10000张测试图片上的准确率为 {} %'.format(100 * correct / total))\n",
    "    print('有{}张图片被分类错误'.format(len(wrong_image_label)))"
   ]
  },
  {
   "cell_type": "code",
   "execution_count": 87,
   "metadata": {
    "pycharm": {
     "is_executing": false
    }
   },
   "outputs": [
    {
     "ename": "NameError",
     "evalue": "name 'pred_result' is not defined",
     "output_type": "error",
     "traceback": [
      "\u001b[1;31m---------------------------------------------------------------------------\u001b[0m",
      "\u001b[1;31mNameError\u001b[0m                                 Traceback (most recent call last)",
      "\u001b[1;32m<ipython-input-87-98e187581195>\u001b[0m in \u001b[0;36m<module>\u001b[1;34m\u001b[0m\n\u001b[0;32m      1\u001b[0m \u001b[1;31m# 模型推断的类别\u001b[0m\u001b[1;33m\u001b[0m\u001b[1;33m\u001b[0m\u001b[1;33m\u001b[0m\u001b[0m\n\u001b[1;32m----> 2\u001b[1;33m \u001b[0mpred_result\u001b[0m\u001b[1;33m\u001b[0m\u001b[1;33m\u001b[0m\u001b[0m\n\u001b[0m",
      "\u001b[1;31mNameError\u001b[0m: name 'pred_result' is not defined"
     ]
    }
   ],
   "source": [
    "# 模型推断的类别\n",
    "pred_result"
   ]
  },
  {
   "cell_type": "code",
   "execution_count": 88,
   "metadata": {
    "pycharm": {
     "is_executing": false
    }
   },
   "outputs": [
    {
     "data": {
      "text/plain": [
       "tensor([7, 2, 1, 0, 4, 1, 4, 9, 5, 9, 0, 6, 9, 0, 1, 5, 9, 7, 3, 4, 9, 6, 6, 5,\n",
       "        4, 0, 7, 4, 0, 1, 3, 1, 3, 4, 7, 2, 7, 1, 2, 1, 1, 7, 4, 2, 3, 5, 1, 2,\n",
       "        4, 4, 6, 3, 5, 5, 6, 0, 4, 1, 9, 5, 7, 8, 9, 3, 7, 4, 6, 4, 3, 0, 7, 0,\n",
       "        2, 9, 1, 7, 3, 2, 9, 7, 7, 6, 2, 7, 8, 4, 7, 3, 6, 1, 3, 6, 9, 3, 1, 4,\n",
       "        1, 7, 6, 9], device='cuda:0')"
      ]
     },
     "execution_count": 88,
     "metadata": {},
     "output_type": "execute_result"
    }
   ],
   "source": [
    "# 实际的类别\n",
    "labels"
   ]
  },
  {
   "cell_type": "code",
   "execution_count": 89,
   "metadata": {
    "pycharm": {
     "is_executing": false
    }
   },
   "outputs": [
    {
     "ename": "NameError",
     "evalue": "name 'final' is not defined",
     "output_type": "error",
     "traceback": [
      "\u001b[1;31m---------------------------------------------------------------------------\u001b[0m",
      "\u001b[1;31mNameError\u001b[0m                                 Traceback (most recent call last)",
      "\u001b[1;32m<ipython-input-89-faec0869773a>\u001b[0m in \u001b[0;36m<module>\u001b[1;34m\u001b[0m\n\u001b[1;32m----> 1\u001b[1;33m \u001b[0mfinal\u001b[0m\u001b[1;33m\u001b[0m\u001b[1;33m\u001b[0m\u001b[0m\n\u001b[0m",
      "\u001b[1;31mNameError\u001b[0m: name 'final' is not defined"
     ]
    }
   ],
   "source": [
    "final"
   ]
  },
  {
   "cell_type": "code",
   "execution_count": 90,
   "metadata": {
    "pycharm": {
     "is_executing": false
    }
   },
   "outputs": [
    {
     "data": {
      "text/plain": [
       "0"
      ]
     },
     "execution_count": 90,
     "metadata": {},
     "output_type": "execute_result"
    }
   ],
   "source": [
    "len(wrong_image)"
   ]
  },
  {
   "cell_type": "code",
   "execution_count": 91,
   "metadata": {
    "pycharm": {
     "is_executing": false
    }
   },
   "outputs": [
    {
     "data": {
      "text/plain": [
       "0"
      ]
     },
     "execution_count": 91,
     "metadata": {},
     "output_type": "execute_result"
    }
   ],
   "source": [
    "len(wrong_image_label)"
   ]
  },
  {
   "cell_type": "code",
   "execution_count": 92,
   "metadata": {
    "pycharm": {
     "is_executing": false
    }
   },
   "outputs": [
    {
     "data": {
      "text/plain": [
       "0"
      ]
     },
     "execution_count": 92,
     "metadata": {},
     "output_type": "execute_result"
    }
   ],
   "source": [
    "len(wrong_image_pred)"
   ]
  },
  {
   "cell_type": "code",
   "execution_count": 93,
   "metadata": {
    "pycharm": {
     "is_executing": false
    }
   },
   "outputs": [
    {
     "ename": "IndexError",
     "evalue": "list index out of range",
     "output_type": "error",
     "traceback": [
      "\u001b[1;31m---------------------------------------------------------------------------\u001b[0m",
      "\u001b[1;31mIndexError\u001b[0m                                Traceback (most recent call last)",
      "\u001b[1;32m<ipython-input-93-f59b88b78679>\u001b[0m in \u001b[0;36m<module>\u001b[1;34m\u001b[0m\n\u001b[0;32m      1\u001b[0m \u001b[1;31m# 可视化分类错误图片中索引为i的图像，打印它的真实类别、模型猜测的类别\u001b[0m\u001b[1;33m\u001b[0m\u001b[1;33m\u001b[0m\u001b[1;33m\u001b[0m\u001b[0m\n\u001b[0;32m      2\u001b[0m \u001b[0mi\u001b[0m \u001b[1;33m=\u001b[0m \u001b[1;36m3\u001b[0m\u001b[1;33m\u001b[0m\u001b[1;33m\u001b[0m\u001b[0m\n\u001b[1;32m----> 3\u001b[1;33m \u001b[0mplt\u001b[0m\u001b[1;33m.\u001b[0m\u001b[0mimshow\u001b[0m\u001b[1;33m(\u001b[0m\u001b[0mwrong_image\u001b[0m\u001b[1;33m[\u001b[0m\u001b[0mi\u001b[0m\u001b[1;33m]\u001b[0m\u001b[1;33m.\u001b[0m\u001b[0mreshape\u001b[0m\u001b[1;33m(\u001b[0m\u001b[1;36m28\u001b[0m\u001b[1;33m,\u001b[0m\u001b[1;36m28\u001b[0m\u001b[1;33m)\u001b[0m\u001b[1;33m)\u001b[0m\u001b[1;33m\u001b[0m\u001b[1;33m\u001b[0m\u001b[0m\n\u001b[0m\u001b[0;32m      4\u001b[0m \u001b[0mprint\u001b[0m\u001b[1;33m(\u001b[0m\u001b[1;34m'真实类别:'\u001b[0m\u001b[1;33m,\u001b[0m\u001b[0mwrong_image_label\u001b[0m\u001b[1;33m[\u001b[0m\u001b[0mi\u001b[0m\u001b[1;33m]\u001b[0m\u001b[1;33m)\u001b[0m\u001b[1;33m\u001b[0m\u001b[1;33m\u001b[0m\u001b[0m\n\u001b[0;32m      5\u001b[0m \u001b[0mprint\u001b[0m\u001b[1;33m(\u001b[0m\u001b[1;34m'模型猜测的类别:'\u001b[0m\u001b[1;33m,\u001b[0m\u001b[0mwrong_image_pred\u001b[0m\u001b[1;33m[\u001b[0m\u001b[0mi\u001b[0m\u001b[1;33m]\u001b[0m\u001b[1;33m)\u001b[0m\u001b[1;33m\u001b[0m\u001b[1;33m\u001b[0m\u001b[0m\n",
      "\u001b[1;31mIndexError\u001b[0m: list index out of range"
     ]
    }
   ],
   "source": [
    "# 可视化分类错误图片中索引为i的图像，打印它的真实类别、模型猜测的类别\n",
    "i = 3\n",
    "plt.imshow(wrong_image[i].reshape(28,28))\n",
    "print('真实类别:',wrong_image_label[i])\n",
    "print('模型猜测的类别:',wrong_image_pred[i])"
   ]
  },
  {
   "cell_type": "code",
   "execution_count": 94,
   "metadata": {
    "pycharm": {
     "is_executing": false
    },
    "scrolled": false
   },
   "outputs": [],
   "source": [
    "# 展示所有分类错误的图片，以及它们对应的标签和预测结果\n",
    "for i in range(len(wrong_image_label)):\n",
    "    plt.style.use({'figure.figsize':(15,15)}) # 设置图像大小\n",
    "    plt.subplot(1,4,i%4+1) # 绘制一行四列的子图\n",
    "    plt.imshow(wrong_image[i].reshape((28,28)).numpy()) # 绘制被分类错误的图片\n",
    "    title = 'True_label:{}\\nPrediction:{}'.format(wrong_image_label[i],wrong_image_pred[i]) # 图表标题说明图片的正确标签和错误结果\n",
    "    plt.title(title)\n",
    "    plt.xticks([]) # 关闭刻度线显示\n",
    "    plt.yticks([])\n",
    "    plt.axis('off') # 关闭坐标轴显示\n",
    "    if i%4 == 3: # 凑够一行四个图就显示出来\n",
    "        plt.show()"
   ]
  },
  {
   "cell_type": "code",
   "execution_count": 95,
   "metadata": {
    "pycharm": {
     "is_executing": false
    }
   },
   "outputs": [
    {
     "data": {
      "image/png": "[encoded data removed]",
      "text/plain": [
       "<Figure size 1080x576 with 1 Axes>"
      ]
     },
     "metadata": {
      "needs_background": "light"
     },
     "output_type": "display_data"
    }
   ],
   "source": [
    "# 分析分类错误的图片，按出现次数降序排列画柱状图\n",
    "\n",
    "# 构建字典存放分类错误图片的原始标签和预测标签\n",
    "wrong_pair = dict()\n",
    "for i in range(len(wrong_image_label)):\n",
    "    word = f'{wrong_image_label[i]}-->{wrong_image_pred[i]}'\n",
    "    wrong_pair[word] = wrong_pair.get(word,0) + 1\n",
    "\n",
    "# 按照分类错误的出现次数排序\n",
    "items = list(wrong_pair.items())\n",
    "items.sort(key=lambda x:x[1], reverse=True) \n",
    "\n",
    "# 存成csv文件\n",
    "import csv\n",
    "with open(\"wrong_pair.csv\",\"w\") as csvfile: \n",
    "    writer = csv.writer(csvfile)\n",
    "    #写入列名\n",
    "    writer.writerow([\"wrong_pair\",'counts'])\n",
    "    for each in items:\n",
    "        new_row = [each[0],each[1]]\n",
    "        #写入一行新数据\n",
    "        writer.writerows([new_row])\n",
    "\n",
    "import pandas as pd\n",
    "df = pd.read_csv('wrong_pair.csv')\n",
    "\n",
    "# 绘制柱状图\n",
    "plt.style.use({'figure.figsize':(15,8)})\n",
    "plt.bar(df['wrong_pair'],df['counts'])\n",
    "plt.xticks(rotation=90)\n",
    "plt.xlabel('图片分类错误的标签')\n",
    "plt.ylabel('出现次数')\n",
    "plt.show()"
   ]
  }
 ],
 "metadata": {
  "kernelspec": {
   "display_name": "Python 3",
   "language": "python",
   "name": "python3"
  },
  "language_info": {
   "codemirror_mode": {
    "name": "ipython",
    "version": 3
   },
   "file_extension": ".py",
   "mimetype": "text/x-python",
   "name": "python",
   "nbconvert_exporter": "python",
   "pygments_lexer": "ipython3",
   "version": "3.7.2"
  },
  "pycharm": {
   "stem_cell": {
    "cell_type": "raw",
    "metadata": {
     "collapsed": false
    },
    "source": []
   }
  }
 },
 "nbformat": 4,
 "nbformat_minor": 2
}
